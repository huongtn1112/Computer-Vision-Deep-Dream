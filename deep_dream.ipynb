{
  "nbformat": 4,
  "nbformat_minor": 0,
  "metadata": {
    "colab": {
      "name": "deep_dream.ipynb",
      "provenance": [],
      "authorship_tag": "ABX9TyMgrQ4NJ+dMjhOeGZYAJ0k+",
      "include_colab_link": true
    },
    "kernelspec": {
      "name": "python3",
      "display_name": "Python 3"
    },
    "language_info": {
      "name": "python"
    }
  },
  "cells": [
    {
      "cell_type": "markdown",
      "metadata": {
        "id": "view-in-github",
        "colab_type": "text"
      },
      "source": [
        "<a href=\"https://colab.research.google.com/github/huongtn1112/Computer-Vision-Deep-Dream/blob/main/deep_dream.ipynb\" target=\"_parent\"><img src=\"https://colab.research.google.com/assets/colab-badge.svg\" alt=\"Open In Colab\"/></a>"
      ]
    },
    {
      "cell_type": "markdown",
      "source": [
        "#Deep Dream "
      ],
      "metadata": {
        "id": "f7vXOnkrpAoq"
      }
    },
    {
      "cell_type": "code",
      "source": [
        "from google.colab import drive\n",
        "drive.mount('/content/drive')"
      ],
      "metadata": {
        "colab": {
          "base_uri": "https://localhost:8080/"
        },
        "id": "z6kwEFb1IY_u",
        "outputId": "88112e8b-508c-4014-a6df-3742f95493dd"
      },
      "execution_count": 8,
      "outputs": [
        {
          "output_type": "stream",
          "name": "stdout",
          "text": [
            "Drive already mounted at /content/drive; to attempt to forcibly remount, call drive.mount(\"/content/drive\", force_remount=True).\n"
          ]
        }
      ]
    },
    {
      "cell_type": "code",
      "source": [
        "%cd \"/content/drive/MyDrive/ML\""
      ],
      "metadata": {
        "colab": {
          "base_uri": "https://localhost:8080/"
        },
        "id": "_3BYTlbpIhxC",
        "outputId": "88575c3d-2d26-45b5-b0f1-765777cb0bb7"
      },
      "execution_count": 30,
      "outputs": [
        {
          "output_type": "stream",
          "name": "stdout",
          "text": [
            "/content/drive/MyDrive/ML\n"
          ]
        }
      ]
    },
    {
      "cell_type": "code",
      "source": [
        "!ls"
      ],
      "metadata": {
        "colab": {
          "base_uri": "https://localhost:8080/"
        },
        "id": "98mnr-tSIvcW",
        "outputId": "810920c4-735f-4131-dd3a-2e1988ff39b9"
      },
      "execution_count": 31,
      "outputs": [
        {
          "output_type": "stream",
          "name": "stdout",
          "text": [
            "pytorch-cnn-visualizations  Resnet_reid.ipynb\n"
          ]
        }
      ]
    },
    {
      "cell_type": "code",
      "execution_count": 32,
      "metadata": {
        "colab": {
          "base_uri": "https://localhost:8080/"
        },
        "id": "ZxbqmpnsH_F_",
        "outputId": "e8c212ab-66f9-4928-c54d-a0064ca03fd6"
      },
      "outputs": [
        {
          "output_type": "stream",
          "name": "stdout",
          "text": [
            "NVIDIA-SMI has failed because it couldn't communicate with the NVIDIA driver. Make sure that the latest NVIDIA driver is installed and running.\n",
            "\n"
          ]
        }
      ],
      "source": [
        "!nvidia-smi"
      ]
    },
    {
      "cell_type": "code",
      "source": [
        "!git clone https://github.com/gordicaleksa/pytorch-deepdream\n",
        "%cd pytorch-deepdream"
      ],
      "metadata": {
        "colab": {
          "base_uri": "https://localhost:8080/"
        },
        "id": "1JXRkuQ7IFTy",
        "outputId": "6d213e7f-1408-44fd-9304-0ce7cff25d43"
      },
      "execution_count": 33,
      "outputs": [
        {
          "output_type": "stream",
          "name": "stdout",
          "text": [
            "Cloning into 'pytorch-deepdream'...\n",
            "remote: Enumerating objects: 492, done.\u001b[K\n",
            "remote: Counting objects: 100% (105/105), done.\u001b[K\n",
            "remote: Compressing objects: 100% (33/33), done.\u001b[K\n",
            "remote: Total 492 (delta 77), reused 72 (delta 72), pack-reused 387\u001b[K\n",
            "Receiving objects: 100% (492/492), 44.40 MiB | 12.43 MiB/s, done.\n",
            "Resolving deltas: 100% (257/257), done.\n",
            "/content/drive/MyDrive/ML/pytorch-deepdream\n"
          ]
        }
      ]
    },
    {
      "cell_type": "code",
      "source": [
        "!ls"
      ],
      "metadata": {
        "colab": {
          "base_uri": "https://localhost:8080/"
        },
        "id": "iBejUrdQJz8U",
        "outputId": "80a2b532-5659-4fbe-ade6-c3d106b0433b"
      },
      "execution_count": 34,
      "outputs": [
        {
          "output_type": "stream",
          "name": "stdout",
          "text": [
            " data\t\t   LICENCE\t   README.md\n",
            " deepdream.py\t   models\t  'The Annotated DeepDream.ipynb'\n",
            " environment.yml   playground.py   utils\n"
          ]
        }
      ]
    },
    {
      "cell_type": "code",
      "source": [
        "!python deepdream.py --input cloud.jpg"
      ],
      "metadata": {
        "colab": {
          "base_uri": "https://localhost:8080/"
        },
        "id": "vNQTjtsBIFrD",
        "outputId": "0f6b73f8-0303-4e3e-e4a0-52cda44f125d"
      },
      "execution_count": 38,
      "outputs": [
        {
          "output_type": "stream",
          "name": "stdout",
          "text": [
            "Dreaming started!\n",
            "/usr/local/lib/python3.7/dist-packages/torch/functional.py:568: UserWarning: torch.meshgrid: in an upcoming release, it will be required to pass the indexing argument. (Triggered internally at  ../aten/src/ATen/native/TensorShape.cpp:2228.)\n",
            "  return _VF.meshgrid(tensors, **kwargs)  # type: ignore[attr-defined]\n",
            "Saved DeepDream static image to: data/out-images/VGG16_EXPERIMENTAL_IMAGENET/cloud_width_600_model_VGG16_EXPERIMENTAL_IMAGENET_relu4_3_pyrsize_4_pyrratio_1.8_iter_10_lr_0.09_shift_32_smooth_0.5.jpg\n",
            "\n"
          ]
        }
      ]
    },
    {
      "cell_type": "code",
      "source": [
        "!python deepdream.py --input figures.jpg"
      ],
      "metadata": {
        "colab": {
          "base_uri": "https://localhost:8080/"
        },
        "id": "Tsrq_1EGop6p",
        "outputId": "03dc4203-dc8a-42ca-b3ca-dc4a3272ac80"
      },
      "execution_count": 42,
      "outputs": [
        {
          "output_type": "stream",
          "name": "stdout",
          "text": [
            "Dreaming started!\n",
            "/usr/local/lib/python3.7/dist-packages/torch/functional.py:568: UserWarning: torch.meshgrid: in an upcoming release, it will be required to pass the indexing argument. (Triggered internally at  ../aten/src/ATen/native/TensorShape.cpp:2228.)\n",
            "  return _VF.meshgrid(tensors, **kwargs)  # type: ignore[attr-defined]\n",
            "Saved DeepDream static image to: data/out-images/VGG16_EXPERIMENTAL_IMAGENET/figures_width_600_model_VGG16_EXPERIMENTAL_IMAGENET_relu4_3_pyrsize_4_pyrratio_1.8_iter_10_lr_0.09_shift_32_smooth_0.5.jpg\n",
            "\n"
          ]
        }
      ]
    },
    {
      "cell_type": "code",
      "source": [
        "!python deepdream.py --input lion.jpg\n",
        "!python deepdream.py --input tubingen.png"
      ],
      "metadata": {
        "colab": {
          "base_uri": "https://localhost:8080/"
        },
        "id": "xO9npOayo0qz",
        "outputId": "840441b4-89aa-459c-bd58-8854c04b5659"
      },
      "execution_count": 43,
      "outputs": [
        {
          "output_type": "stream",
          "name": "stdout",
          "text": [
            "Dreaming started!\n",
            "/usr/local/lib/python3.7/dist-packages/torch/functional.py:568: UserWarning: torch.meshgrid: in an upcoming release, it will be required to pass the indexing argument. (Triggered internally at  ../aten/src/ATen/native/TensorShape.cpp:2228.)\n",
            "  return _VF.meshgrid(tensors, **kwargs)  # type: ignore[attr-defined]\n",
            "Saved DeepDream static image to: data/out-images/VGG16_EXPERIMENTAL_IMAGENET/lion_width_600_model_VGG16_EXPERIMENTAL_IMAGENET_relu4_3_pyrsize_4_pyrratio_1.8_iter_10_lr_0.09_shift_32_smooth_0.5.jpg\n",
            "\n",
            "Dreaming started!\n",
            "/usr/local/lib/python3.7/dist-packages/torch/functional.py:568: UserWarning: torch.meshgrid: in an upcoming release, it will be required to pass the indexing argument. (Triggered internally at  ../aten/src/ATen/native/TensorShape.cpp:2228.)\n",
            "  return _VF.meshgrid(tensors, **kwargs)  # type: ignore[attr-defined]\n",
            "Saved DeepDream static image to: data/out-images/VGG16_EXPERIMENTAL_IMAGENET/tubingen_width_600_model_VGG16_EXPERIMENTAL_IMAGENET_relu4_3_pyrsize_4_pyrratio_1.8_iter_10_lr_0.09_shift_32_smooth_0.5.jpg\n",
            "\n"
          ]
        }
      ]
    },
    {
      "cell_type": "code",
      "source": [
        "!python deepdream.py --input video.mp4"
      ],
      "metadata": {
        "colab": {
          "base_uri": "https://localhost:8080/"
        },
        "id": "o1EPWomTIGqj",
        "outputId": "84982f3f-765e-4bd9-dcc6-322b58621365"
      },
      "execution_count": 41,
      "outputs": [
        {
          "output_type": "stream",
          "name": "stdout",
          "text": [
            "Dumped frames to /content/drive/MyDrive/ML/pytorch-deepdream/utils/../data/out-videos/tmp_input.\n",
            "Creating a DeepDream video from video.mp4, via VGG16_EXPERIMENTAL model.\n",
            "Using pretrained weights = IMAGENET\n",
            "Using model layers = ['relu4_3']\n",
            "Using lending coefficient = 0.85.\n",
            "Video output width = 600\n",
            "fps = 24\n",
            "************************************************** \n",
            "\n",
            "Processing frame 0\n",
            "/usr/local/lib/python3.7/dist-packages/torch/functional.py:568: UserWarning: torch.meshgrid: in an upcoming release, it will be required to pass the indexing argument. (Triggered internally at  ../aten/src/ATen/native/TensorShape.cpp:2228.)\n",
            "  return _VF.meshgrid(tensors, **kwargs)  # type: ignore[attr-defined]\n",
            "Saved DeepDream frame to: data/out-videos/tmp_out/000000.jpg\n",
            "\n",
            "Processing frame 1\n",
            "Saved DeepDream frame to: data/out-videos/tmp_out/000001.jpg\n",
            "\n",
            "Processing frame 2\n",
            "Saved DeepDream frame to: data/out-videos/tmp_out/000002.jpg\n",
            "\n",
            "Processing frame 3\n",
            "Saved DeepDream frame to: data/out-videos/tmp_out/000003.jpg\n",
            "\n",
            "Processing frame 4\n",
            "Saved DeepDream frame to: data/out-videos/tmp_out/000004.jpg\n",
            "\n",
            "Processing frame 5\n",
            "Saved DeepDream frame to: data/out-videos/tmp_out/000005.jpg\n",
            "\n",
            "Processing frame 6\n",
            "Saved DeepDream frame to: data/out-videos/tmp_out/000006.jpg\n",
            "\n",
            "Processing frame 7\n",
            "Saved DeepDream frame to: data/out-videos/tmp_out/000007.jpg\n",
            "\n",
            "Processing frame 8\n",
            "Saved DeepDream frame to: data/out-videos/tmp_out/000008.jpg\n",
            "\n",
            "Processing frame 9\n",
            "Saved DeepDream frame to: data/out-videos/tmp_out/000009.jpg\n",
            "\n",
            "Processing frame 10\n",
            "Saved DeepDream frame to: data/out-videos/tmp_out/000010.jpg\n",
            "\n",
            "Processing frame 11\n",
            "Saved DeepDream frame to: data/out-videos/tmp_out/000011.jpg\n",
            "\n",
            "Processing frame 12\n",
            "Saved DeepDream frame to: data/out-videos/tmp_out/000012.jpg\n",
            "\n",
            "Processing frame 13\n",
            "Saved DeepDream frame to: data/out-videos/tmp_out/000013.jpg\n",
            "\n",
            "Processing frame 14\n",
            "Saved DeepDream frame to: data/out-videos/tmp_out/000014.jpg\n",
            "\n",
            "Processing frame 15\n",
            "Saved DeepDream frame to: data/out-videos/tmp_out/000015.jpg\n",
            "\n",
            "Processing frame 16\n",
            "Saved DeepDream frame to: data/out-videos/tmp_out/000016.jpg\n",
            "\n",
            "Processing frame 17\n",
            "Saved DeepDream frame to: data/out-videos/tmp_out/000017.jpg\n",
            "\n",
            "Processing frame 18\n",
            "Saved DeepDream frame to: data/out-videos/tmp_out/000018.jpg\n",
            "\n",
            "Processing frame 19\n",
            "Saved DeepDream frame to: data/out-videos/tmp_out/000019.jpg\n",
            "\n",
            "Processing frame 20\n",
            "Saved DeepDream frame to: data/out-videos/tmp_out/000020.jpg\n",
            "\n",
            "Processing frame 21\n",
            "Saved DeepDream frame to: data/out-videos/tmp_out/000021.jpg\n",
            "\n",
            "Processing frame 22\n",
            "Saved DeepDream frame to: data/out-videos/tmp_out/000022.jpg\n",
            "\n",
            "Processing frame 23\n",
            "Saved DeepDream frame to: data/out-videos/tmp_out/000023.jpg\n",
            "\n",
            "Processing frame 24\n",
            "Saved DeepDream frame to: data/out-videos/tmp_out/000024.jpg\n",
            "\n",
            "Processing frame 25\n",
            "Saved DeepDream frame to: data/out-videos/tmp_out/000025.jpg\n",
            "\n",
            "Processing frame 26\n",
            "Saved DeepDream frame to: data/out-videos/tmp_out/000026.jpg\n",
            "\n",
            "Processing frame 27\n",
            "Saved DeepDream frame to: data/out-videos/tmp_out/000027.jpg\n",
            "\n",
            "Processing frame 28\n",
            "Saved DeepDream frame to: data/out-videos/tmp_out/000028.jpg\n",
            "\n",
            "Processing frame 29\n",
            "Saved DeepDream frame to: data/out-videos/tmp_out/000029.jpg\n",
            "\n",
            "Processing frame 30\n",
            "Saved DeepDream frame to: data/out-videos/tmp_out/000030.jpg\n",
            "\n",
            "Processing frame 31\n",
            "Saved DeepDream frame to: data/out-videos/tmp_out/000031.jpg\n",
            "\n",
            "Processing frame 32\n",
            "Saved DeepDream frame to: data/out-videos/tmp_out/000032.jpg\n",
            "\n",
            "Processing frame 33\n",
            "Saved DeepDream frame to: data/out-videos/tmp_out/000033.jpg\n",
            "\n",
            "Processing frame 34\n",
            "Saved DeepDream frame to: data/out-videos/tmp_out/000034.jpg\n",
            "\n",
            "Processing frame 35\n",
            "Saved DeepDream frame to: data/out-videos/tmp_out/000035.jpg\n",
            "\n",
            "Processing frame 36\n",
            "Saved DeepDream frame to: data/out-videos/tmp_out/000036.jpg\n",
            "\n",
            "Processing frame 37\n",
            "Saved DeepDream frame to: data/out-videos/tmp_out/000037.jpg\n",
            "\n",
            "Processing frame 38\n",
            "Saved DeepDream frame to: data/out-videos/tmp_out/000038.jpg\n",
            "\n",
            "Processing frame 39\n",
            "Saved DeepDream frame to: data/out-videos/tmp_out/000039.jpg\n",
            "\n",
            "Processing frame 40\n",
            "Saved DeepDream frame to: data/out-videos/tmp_out/000040.jpg\n",
            "\n",
            "Processing frame 41\n",
            "Saved DeepDream frame to: data/out-videos/tmp_out/000041.jpg\n",
            "\n",
            "Processing frame 42\n",
            "Saved DeepDream frame to: data/out-videos/tmp_out/000042.jpg\n",
            "\n",
            "Processing frame 43\n",
            "Saved DeepDream frame to: data/out-videos/tmp_out/000043.jpg\n",
            "\n",
            "Processing frame 44\n",
            "Saved DeepDream frame to: data/out-videos/tmp_out/000044.jpg\n",
            "\n",
            "Processing frame 45\n",
            "Saved DeepDream frame to: data/out-videos/tmp_out/000045.jpg\n",
            "\n",
            "Processing frame 46\n",
            "Saved DeepDream frame to: data/out-videos/tmp_out/000046.jpg\n",
            "\n",
            "Processing frame 47\n",
            "Saved DeepDream frame to: data/out-videos/tmp_out/000047.jpg\n",
            "\n",
            "Processing frame 48\n",
            "Saved DeepDream frame to: data/out-videos/tmp_out/000048.jpg\n",
            "\n",
            "Processing frame 49\n",
            "Saved DeepDream frame to: data/out-videos/tmp_out/000049.jpg\n",
            "\n",
            "Processing frame 50\n",
            "Saved DeepDream frame to: data/out-videos/tmp_out/000050.jpg\n",
            "\n",
            "Processing frame 51\n",
            "Saved DeepDream frame to: data/out-videos/tmp_out/000051.jpg\n",
            "\n",
            "Processing frame 52\n",
            "Saved DeepDream frame to: data/out-videos/tmp_out/000052.jpg\n",
            "\n",
            "Processing frame 53\n",
            "Saved DeepDream frame to: data/out-videos/tmp_out/000053.jpg\n",
            "\n",
            "Processing frame 54\n",
            "Saved DeepDream frame to: data/out-videos/tmp_out/000054.jpg\n",
            "\n",
            "Processing frame 55\n",
            "Saved DeepDream frame to: data/out-videos/tmp_out/000055.jpg\n",
            "\n",
            "Processing frame 56\n",
            "Saved DeepDream frame to: data/out-videos/tmp_out/000056.jpg\n",
            "\n",
            "Processing frame 57\n",
            "Saved DeepDream frame to: data/out-videos/tmp_out/000057.jpg\n",
            "\n",
            "Processing frame 58\n",
            "Saved DeepDream frame to: data/out-videos/tmp_out/000058.jpg\n",
            "\n",
            "Processing frame 59\n",
            "Saved DeepDream frame to: data/out-videos/tmp_out/000059.jpg\n",
            "\n",
            "Processing frame 60\n",
            "Saved DeepDream frame to: data/out-videos/tmp_out/000060.jpg\n",
            "\n",
            "Processing frame 61\n",
            "Saved DeepDream frame to: data/out-videos/tmp_out/000061.jpg\n",
            "\n",
            "Processing frame 62\n",
            "Saved DeepDream frame to: data/out-videos/tmp_out/000062.jpg\n",
            "\n",
            "Processing frame 63\n",
            "Saved DeepDream frame to: data/out-videos/tmp_out/000063.jpg\n",
            "\n",
            "Processing frame 64\n",
            "Saved DeepDream frame to: data/out-videos/tmp_out/000064.jpg\n",
            "\n",
            "Processing frame 65\n",
            "Saved DeepDream frame to: data/out-videos/tmp_out/000065.jpg\n",
            "\n",
            "Processing frame 66\n",
            "Saved DeepDream frame to: data/out-videos/tmp_out/000066.jpg\n",
            "\n",
            "Processing frame 67\n",
            "Saved DeepDream frame to: data/out-videos/tmp_out/000067.jpg\n",
            "\n",
            "Processing frame 68\n",
            "Saved DeepDream frame to: data/out-videos/tmp_out/000068.jpg\n",
            "\n",
            "Processing frame 69\n",
            "Saved DeepDream frame to: data/out-videos/tmp_out/000069.jpg\n",
            "\n",
            "Processing frame 70\n",
            "Saved DeepDream frame to: data/out-videos/tmp_out/000070.jpg\n",
            "\n",
            "Processing frame 71\n",
            "Saved DeepDream frame to: data/out-videos/tmp_out/000071.jpg\n",
            "\n",
            "Processing frame 72\n",
            "Saved DeepDream frame to: data/out-videos/tmp_out/000072.jpg\n",
            "\n",
            "Processing frame 73\n",
            "Saved DeepDream frame to: data/out-videos/tmp_out/000073.jpg\n",
            "\n",
            "Processing frame 74\n",
            "Saved DeepDream frame to: data/out-videos/tmp_out/000074.jpg\n",
            "\n",
            "Processing frame 75\n",
            "Saved DeepDream frame to: data/out-videos/tmp_out/000075.jpg\n",
            "\n",
            "Processing frame 76\n",
            "Saved DeepDream frame to: data/out-videos/tmp_out/000076.jpg\n",
            "\n",
            "Processing frame 77\n",
            "Saved DeepDream frame to: data/out-videos/tmp_out/000077.jpg\n",
            "\n",
            "Processing frame 78\n",
            "Saved DeepDream frame to: data/out-videos/tmp_out/000078.jpg\n",
            "\n",
            "Processing frame 79\n",
            "Saved DeepDream frame to: data/out-videos/tmp_out/000079.jpg\n",
            "\n",
            "Processing frame 80\n",
            "Saved DeepDream frame to: data/out-videos/tmp_out/000080.jpg\n",
            "\n",
            "Processing frame 81\n",
            "Saved DeepDream frame to: data/out-videos/tmp_out/000081.jpg\n",
            "\n",
            "Processing frame 82\n",
            "Saved DeepDream frame to: data/out-videos/tmp_out/000082.jpg\n",
            "\n",
            "Processing frame 83\n",
            "Saved DeepDream frame to: data/out-videos/tmp_out/000083.jpg\n",
            "\n",
            "Processing frame 84\n",
            "Saved DeepDream frame to: data/out-videos/tmp_out/000084.jpg\n",
            "\n",
            "Processing frame 85\n",
            "Saved DeepDream frame to: data/out-videos/tmp_out/000085.jpg\n",
            "\n",
            "Processing frame 86\n",
            "Saved DeepDream frame to: data/out-videos/tmp_out/000086.jpg\n",
            "\n",
            "Processing frame 87\n",
            "Saved DeepDream frame to: data/out-videos/tmp_out/000087.jpg\n",
            "\n",
            "Processing frame 88\n",
            "Saved DeepDream frame to: data/out-videos/tmp_out/000088.jpg\n",
            "\n",
            "Processing frame 89\n",
            "Saved DeepDream frame to: data/out-videos/tmp_out/000089.jpg\n",
            "\n",
            "Processing frame 90\n",
            "Saved DeepDream frame to: data/out-videos/tmp_out/000090.jpg\n",
            "\n",
            "Processing frame 91\n",
            "Saved DeepDream frame to: data/out-videos/tmp_out/000091.jpg\n",
            "\n",
            "Processing frame 92\n",
            "Saved DeepDream frame to: data/out-videos/tmp_out/000092.jpg\n",
            "\n",
            "Processing frame 93\n",
            "Saved DeepDream frame to: data/out-videos/tmp_out/000093.jpg\n",
            "\n",
            "Processing frame 94\n",
            "Saved DeepDream frame to: data/out-videos/tmp_out/000094.jpg\n",
            "\n",
            "Processing frame 95\n",
            "Saved DeepDream frame to: data/out-videos/tmp_out/000095.jpg\n",
            "\n",
            "Processing frame 96\n",
            "Saved DeepDream frame to: data/out-videos/tmp_out/000096.jpg\n",
            "\n",
            "Processing frame 97\n",
            "Saved DeepDream frame to: data/out-videos/tmp_out/000097.jpg\n",
            "\n",
            "Processing frame 98\n",
            "Saved DeepDream frame to: data/out-videos/tmp_out/000098.jpg\n",
            "\n",
            "Processing frame 99\n",
            "Saved DeepDream frame to: data/out-videos/tmp_out/000099.jpg\n",
            "\n",
            "\u001b[1;34m[swscaler @ 0x55ed8ad50000] \u001b[0m\u001b[0;33mdeprecated pixel format used, make sure you did set range correctly\n",
            "\u001b[0mSaved video to /content/drive/MyDrive/ML/pytorch-deepdream/utils/../data/out-videos/video_fps_24_blend_0.85_video_width_600_model_VGG16_EXPERIMENTAL_IMAGENET_relu4_3_pyrsize_4_pyrratio_1.8_iter_10_lr_0.09_shift_32_smooth_0.5.mp4.\n",
            "Deleted tmp frame dump directory /content/drive/MyDrive/ML/pytorch-deepdream/utils/../data/out-videos/tmp_input.\n"
          ]
        }
      ]
    }
  ]
}